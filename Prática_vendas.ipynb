{
 "cells": [
  {
   "cell_type": "code",
   "execution_count": 6,
   "id": "d2bc869c-4452-4c94-ae86-f79673ac31a1",
   "metadata": {},
   "outputs": [
    {
     "ename": "ModuleNotFoundError",
     "evalue": "No module named 'pandas'",
     "output_type": "error",
     "traceback": [
      "\u001b[31m---------------------------------------------------------------------------\u001b[39m",
      "\u001b[31mModuleNotFoundError\u001b[39m                       Traceback (most recent call last)",
      "\u001b[36mCell\u001b[39m\u001b[36m \u001b[39m\u001b[32mIn[6]\u001b[39m\u001b[32m, line 1\u001b[39m\n\u001b[32m----> \u001b[39m\u001b[32m1\u001b[39m \u001b[38;5;28;01mimport\u001b[39;00m\u001b[38;5;250m \u001b[39m\u001b[34;01mpandas\u001b[39;00m\u001b[38;5;250m \u001b[39m\u001b[38;5;28;01mas\u001b[39;00m\u001b[38;5;250m \u001b[39m\u001b[34;01mpd\u001b[39;00m\n",
      "\u001b[31mModuleNotFoundError\u001b[39m: No module named 'pandas'"
     ]
    }
   ],
   "source": [
    "import pandas as pd"
   ]
  },
  {
   "cell_type": "markdown",
   "id": "3d991798",
   "metadata": {},
   "source": [
    "### Criando um dicionário sobre as vendas de um estabelecimento"
   ]
  },
  {
   "cell_type": "code",
   "execution_count": 3,
   "id": "0f86f939-0e95-4e68-aef7-5fd3cd326447",
   "metadata": {},
   "outputs": [],
   "source": [
    "data_vendas = {\n",
    "    'produto': ['Notebook', 'Microondas', 'Geladeira', 'Planta', 'Monitor'],\n",
    "    'categoria': ['Eletrônico', 'Eletrodomésticos', 'Eletrodomésticos', 'Decoração', 'Eletrônico'],\n",
    "    'preco': [3500.0, 567.9, 3780.78, 25.9, 1290.99],\n",
    "    'quantidade_vendida': [120, 179, 235, 765, 268],\n",
    "    'data_venda': ['2024-03-10', '2024-04-12', '2024-03-15', '2024-03-18', '2024-03-20']\n",
    "}"
   ]
  },
  {
   "cell_type": "markdown",
   "id": "ba75bc17-f46b-4027-9a1f-52e5da1d6f79",
   "metadata": {},
   "source": [
    "### Adicionando o dicionário ao DataFrame \"df\" para uma vizualização de forma tabular"
   ]
  },
  {
   "cell_type": "code",
   "execution_count": 5,
   "id": "b5544127-b269-474e-b969-c0c431977d63",
   "metadata": {},
   "outputs": [
    {
     "ename": "NameError",
     "evalue": "name 'pd' is not defined",
     "output_type": "error",
     "traceback": [
      "\u001b[31m---------------------------------------------------------------------------\u001b[39m",
      "\u001b[31mNameError\u001b[39m                                 Traceback (most recent call last)",
      "\u001b[36mCell\u001b[39m\u001b[36m \u001b[39m\u001b[32mIn[5]\u001b[39m\u001b[32m, line 1\u001b[39m\n\u001b[32m----> \u001b[39m\u001b[32m1\u001b[39m df = \u001b[43mpd\u001b[49m.DataFrame(data_vendas)\n",
      "\u001b[31mNameError\u001b[39m: name 'pd' is not defined"
     ]
    }
   ],
   "source": [
    "df = pd.DataFrame(data_vendas)"
   ]
  },
  {
   "cell_type": "markdown",
   "id": "390ead36-1f32-4ac2-abd8-d8a983efa9df",
   "metadata": {},
   "source": [
    "### Mostrando a tabela"
   ]
  },
  {
   "cell_type": "code",
   "execution_count": null,
   "id": "5371782f-7afd-4cf1-ab17-2a1e0c85c167",
   "metadata": {},
   "outputs": [
    {
     "data": {
      "text/html": [
       "<div>\n",
       "<style scoped>\n",
       "    .dataframe tbody tr th:only-of-type {\n",
       "        vertical-align: middle;\n",
       "    }\n",
       "\n",
       "    .dataframe tbody tr th {\n",
       "        vertical-align: top;\n",
       "    }\n",
       "\n",
       "    .dataframe thead th {\n",
       "        text-align: right;\n",
       "    }\n",
       "</style>\n",
       "<table border=\"1\" class=\"dataframe\">\n",
       "  <thead>\n",
       "    <tr style=\"text-align: right;\">\n",
       "      <th></th>\n",
       "      <th>produto</th>\n",
       "      <th>categoria</th>\n",
       "      <th>preco</th>\n",
       "      <th>quantidade_vendida</th>\n",
       "      <th>data_venda</th>\n",
       "    </tr>\n",
       "  </thead>\n",
       "  <tbody>\n",
       "    <tr>\n",
       "      <th>0</th>\n",
       "      <td>Notebook</td>\n",
       "      <td>Eletrônico</td>\n",
       "      <td>3500.00</td>\n",
       "      <td>120</td>\n",
       "      <td>2024-03-10</td>\n",
       "    </tr>\n",
       "    <tr>\n",
       "      <th>1</th>\n",
       "      <td>Microondas</td>\n",
       "      <td>Eletrodomésticos</td>\n",
       "      <td>567.90</td>\n",
       "      <td>179</td>\n",
       "      <td>2024-04-12</td>\n",
       "    </tr>\n",
       "    <tr>\n",
       "      <th>2</th>\n",
       "      <td>Geladeira</td>\n",
       "      <td>Eletrodomésticos</td>\n",
       "      <td>3780.78</td>\n",
       "      <td>235</td>\n",
       "      <td>2024-03-15</td>\n",
       "    </tr>\n",
       "    <tr>\n",
       "      <th>3</th>\n",
       "      <td>Planta</td>\n",
       "      <td>Decoração</td>\n",
       "      <td>25.90</td>\n",
       "      <td>765</td>\n",
       "      <td>2024-03-18</td>\n",
       "    </tr>\n",
       "    <tr>\n",
       "      <th>4</th>\n",
       "      <td>Monitor</td>\n",
       "      <td>Eletrônico</td>\n",
       "      <td>1290.99</td>\n",
       "      <td>268</td>\n",
       "      <td>2024-03-20</td>\n",
       "    </tr>\n",
       "  </tbody>\n",
       "</table>\n",
       "</div>"
      ],
      "text/plain": [
       "      produto         categoria    preco  quantidade_vendida  data_venda\n",
       "0    Notebook        Eletrônico  3500.00                 120  2024-03-10\n",
       "1  Microondas  Eletrodomésticos   567.90                 179  2024-04-12\n",
       "2   Geladeira  Eletrodomésticos  3780.78                 235  2024-03-15\n",
       "3      Planta         Decoração    25.90                 765  2024-03-18\n",
       "4     Monitor        Eletrônico  1290.99                 268  2024-03-20"
      ]
     },
     "execution_count": 55,
     "metadata": {},
     "output_type": "execute_result"
    }
   ],
   "source": [
    "df"
   ]
  },
  {
   "cell_type": "markdown",
   "id": "73b0dd32-70f0-46e6-a41a-8b3ae56fa744",
   "metadata": {},
   "source": [
    "### Mudando o tipo de \"data_venda\" para o tipo DATE"
   ]
  },
  {
   "cell_type": "code",
   "execution_count": null,
   "id": "706eeb85-e5c1-4b84-a11a-13cf2fff8059",
   "metadata": {},
   "outputs": [],
   "source": [
    "df['data_venda'] = pd.to_datetime(df['data_venda'])"
   ]
  },
  {
   "cell_type": "markdown",
   "id": "a68e12f0-d282-4710-b0d3-7d653bb45ee7",
   "metadata": {},
   "source": [
    "### Mostrando os tipos dos itens"
   ]
  },
  {
   "cell_type": "code",
   "execution_count": null,
   "id": "7c944274-49b3-46f5-9368-a4074957003a",
   "metadata": {},
   "outputs": [
    {
     "data": {
      "text/plain": [
       "produto                       object\n",
       "categoria                     object\n",
       "preco                        float64\n",
       "quantidade_vendida             int64\n",
       "data_venda            datetime64[ns]\n",
       "dtype: object"
      ]
     },
     "execution_count": 57,
     "metadata": {},
     "output_type": "execute_result"
    }
   ],
   "source": [
    "df.dtypes"
   ]
  },
  {
   "cell_type": "markdown",
   "id": "b37f8041-2f0d-43d6-856d-f08cfd0131fc",
   "metadata": {},
   "source": [
    "### Criando uma nova coluna onde multiplica as quantidades vendidas pelo preço, obtendo o lucro bruto."
   ]
  },
  {
   "cell_type": "code",
   "execution_count": null,
   "id": "c414864b-84c8-4b67-936f-da1a3e7aefd3",
   "metadata": {},
   "outputs": [],
   "source": [
    "df['nova_receita'] = df['preco'] * df['quantidade_vendida']"
   ]
  },
  {
   "cell_type": "code",
   "execution_count": null,
   "id": "b7c844ca-a376-46cc-b854-e489769193c8",
   "metadata": {},
   "outputs": [
    {
     "data": {
      "text/html": [
       "<div>\n",
       "<style scoped>\n",
       "    .dataframe tbody tr th:only-of-type {\n",
       "        vertical-align: middle;\n",
       "    }\n",
       "\n",
       "    .dataframe tbody tr th {\n",
       "        vertical-align: top;\n",
       "    }\n",
       "\n",
       "    .dataframe thead th {\n",
       "        text-align: right;\n",
       "    }\n",
       "</style>\n",
       "<table border=\"1\" class=\"dataframe\">\n",
       "  <thead>\n",
       "    <tr style=\"text-align: right;\">\n",
       "      <th></th>\n",
       "      <th>produto</th>\n",
       "      <th>categoria</th>\n",
       "      <th>preco</th>\n",
       "      <th>quantidade_vendida</th>\n",
       "      <th>data_venda</th>\n",
       "      <th>nova_receita</th>\n",
       "    </tr>\n",
       "  </thead>\n",
       "  <tbody>\n",
       "    <tr>\n",
       "      <th>0</th>\n",
       "      <td>Notebook</td>\n",
       "      <td>Eletrônico</td>\n",
       "      <td>3500.00</td>\n",
       "      <td>120</td>\n",
       "      <td>2024-03-10</td>\n",
       "      <td>420000.00</td>\n",
       "    </tr>\n",
       "    <tr>\n",
       "      <th>1</th>\n",
       "      <td>Microondas</td>\n",
       "      <td>Eletrodomésticos</td>\n",
       "      <td>567.90</td>\n",
       "      <td>179</td>\n",
       "      <td>2024-04-12</td>\n",
       "      <td>101654.10</td>\n",
       "    </tr>\n",
       "    <tr>\n",
       "      <th>2</th>\n",
       "      <td>Geladeira</td>\n",
       "      <td>Eletrodomésticos</td>\n",
       "      <td>3780.78</td>\n",
       "      <td>235</td>\n",
       "      <td>2024-03-15</td>\n",
       "      <td>888483.30</td>\n",
       "    </tr>\n",
       "    <tr>\n",
       "      <th>3</th>\n",
       "      <td>Planta</td>\n",
       "      <td>Decoração</td>\n",
       "      <td>25.90</td>\n",
       "      <td>765</td>\n",
       "      <td>2024-03-18</td>\n",
       "      <td>19813.50</td>\n",
       "    </tr>\n",
       "    <tr>\n",
       "      <th>4</th>\n",
       "      <td>Monitor</td>\n",
       "      <td>Eletrônico</td>\n",
       "      <td>1290.99</td>\n",
       "      <td>268</td>\n",
       "      <td>2024-03-20</td>\n",
       "      <td>345985.32</td>\n",
       "    </tr>\n",
       "  </tbody>\n",
       "</table>\n",
       "</div>"
      ],
      "text/plain": [
       "      produto         categoria    preco  quantidade_vendida data_venda  \\\n",
       "0    Notebook        Eletrônico  3500.00                 120 2024-03-10   \n",
       "1  Microondas  Eletrodomésticos   567.90                 179 2024-04-12   \n",
       "2   Geladeira  Eletrodomésticos  3780.78                 235 2024-03-15   \n",
       "3      Planta         Decoração    25.90                 765 2024-03-18   \n",
       "4     Monitor        Eletrônico  1290.99                 268 2024-03-20   \n",
       "\n",
       "   nova_receita  \n",
       "0     420000.00  \n",
       "1     101654.10  \n",
       "2     888483.30  \n",
       "3      19813.50  \n",
       "4     345985.32  "
      ]
     },
     "execution_count": 59,
     "metadata": {},
     "output_type": "execute_result"
    }
   ],
   "source": [
    "df"
   ]
  },
  {
   "cell_type": "markdown",
   "id": "0ea1c1a6-364c-4687-ab83-94070e112fab",
   "metadata": {},
   "source": [
    "### Selecionando apenas as vendas de março de 2024"
   ]
  },
  {
   "cell_type": "code",
   "execution_count": null,
   "id": "b145ee8e-3d80-4842-a329-68621cb8ccd8",
   "metadata": {},
   "outputs": [],
   "source": [
    "vendas_marco = (df['data_venda'].dt.month == 3) & (df['data_venda'].dt.year == 2024)"
   ]
  },
  {
   "cell_type": "code",
   "execution_count": null,
   "id": "81c55a26-3900-493f-a1be-36bd6930b9be",
   "metadata": {},
   "outputs": [
    {
     "data": {
      "text/html": [
       "<div>\n",
       "<style scoped>\n",
       "    .dataframe tbody tr th:only-of-type {\n",
       "        vertical-align: middle;\n",
       "    }\n",
       "\n",
       "    .dataframe tbody tr th {\n",
       "        vertical-align: top;\n",
       "    }\n",
       "\n",
       "    .dataframe thead th {\n",
       "        text-align: right;\n",
       "    }\n",
       "</style>\n",
       "<table border=\"1\" class=\"dataframe\">\n",
       "  <thead>\n",
       "    <tr style=\"text-align: right;\">\n",
       "      <th></th>\n",
       "      <th>produto</th>\n",
       "      <th>categoria</th>\n",
       "      <th>preco</th>\n",
       "      <th>quantidade_vendida</th>\n",
       "      <th>data_venda</th>\n",
       "      <th>nova_receita</th>\n",
       "    </tr>\n",
       "  </thead>\n",
       "  <tbody>\n",
       "    <tr>\n",
       "      <th>0</th>\n",
       "      <td>Notebook</td>\n",
       "      <td>Eletrônico</td>\n",
       "      <td>3500.00</td>\n",
       "      <td>120</td>\n",
       "      <td>2024-03-10</td>\n",
       "      <td>420000.00</td>\n",
       "    </tr>\n",
       "    <tr>\n",
       "      <th>2</th>\n",
       "      <td>Geladeira</td>\n",
       "      <td>Eletrodomésticos</td>\n",
       "      <td>3780.78</td>\n",
       "      <td>235</td>\n",
       "      <td>2024-03-15</td>\n",
       "      <td>888483.30</td>\n",
       "    </tr>\n",
       "    <tr>\n",
       "      <th>3</th>\n",
       "      <td>Planta</td>\n",
       "      <td>Decoração</td>\n",
       "      <td>25.90</td>\n",
       "      <td>765</td>\n",
       "      <td>2024-03-18</td>\n",
       "      <td>19813.50</td>\n",
       "    </tr>\n",
       "    <tr>\n",
       "      <th>4</th>\n",
       "      <td>Monitor</td>\n",
       "      <td>Eletrônico</td>\n",
       "      <td>1290.99</td>\n",
       "      <td>268</td>\n",
       "      <td>2024-03-20</td>\n",
       "      <td>345985.32</td>\n",
       "    </tr>\n",
       "  </tbody>\n",
       "</table>\n",
       "</div>"
      ],
      "text/plain": [
       "     produto         categoria    preco  quantidade_vendida data_venda  \\\n",
       "0   Notebook        Eletrônico  3500.00                 120 2024-03-10   \n",
       "2  Geladeira  Eletrodomésticos  3780.78                 235 2024-03-15   \n",
       "3     Planta         Decoração    25.90                 765 2024-03-18   \n",
       "4    Monitor        Eletrônico  1290.99                 268 2024-03-20   \n",
       "\n",
       "   nova_receita  \n",
       "0     420000.00  \n",
       "2     888483.30  \n",
       "3      19813.50  \n",
       "4     345985.32  "
      ]
     },
     "execution_count": 61,
     "metadata": {},
     "output_type": "execute_result"
    }
   ],
   "source": [
    "df[vendas_marco]"
   ]
  },
  {
   "cell_type": "markdown",
   "id": "d650e0eb-8767-4a1b-ad9b-796550152aa2",
   "metadata": {},
   "source": [
    "### Selecionando o item mais vendido, sua categoria e sua receita"
   ]
  },
  {
   "cell_type": "code",
   "execution_count": null,
   "id": "0102996a-43fe-4985-9c0c-ff7fd77bea31",
   "metadata": {},
   "outputs": [
    {
     "data": {
      "text/html": [
       "<div>\n",
       "<style scoped>\n",
       "    .dataframe tbody tr th:only-of-type {\n",
       "        vertical-align: middle;\n",
       "    }\n",
       "\n",
       "    .dataframe tbody tr th {\n",
       "        vertical-align: top;\n",
       "    }\n",
       "\n",
       "    .dataframe thead th {\n",
       "        text-align: right;\n",
       "    }\n",
       "</style>\n",
       "<table border=\"1\" class=\"dataframe\">\n",
       "  <thead>\n",
       "    <tr style=\"text-align: right;\">\n",
       "      <th></th>\n",
       "      <th>produto</th>\n",
       "      <th>categoria</th>\n",
       "      <th>nova_receita</th>\n",
       "    </tr>\n",
       "  </thead>\n",
       "  <tbody>\n",
       "    <tr>\n",
       "      <th>2</th>\n",
       "      <td>Geladeira</td>\n",
       "      <td>Eletrodomésticos</td>\n",
       "      <td>888483.3</td>\n",
       "    </tr>\n",
       "  </tbody>\n",
       "</table>\n",
       "</div>"
      ],
      "text/plain": [
       "     produto         categoria  nova_receita\n",
       "2  Geladeira  Eletrodomésticos      888483.3"
      ]
     },
     "execution_count": 75,
     "metadata": {},
     "output_type": "execute_result"
    }
   ],
   "source": [
    "df_max = df.loc[[df['nova_receita'].idxmax()], ['produto', 'categoria', 'nova_receita']]\n",
    "df_max"
   ]
  },
  {
   "cell_type": "markdown",
   "id": "957ae294-8aef-49e9-aba9-335fa8cb80aa",
   "metadata": {},
   "source": [
    "### Agrupando os itens da categoria para somar a receita, dessa vez por categoria"
   ]
  },
  {
   "cell_type": "code",
   "execution_count": null,
   "id": "66ba41d5-732e-48a2-9787-27ea2d996fa0",
   "metadata": {},
   "outputs": [
    {
     "data": {
      "text/plain": [
       "categoria\n",
       "Decoração            19813.50\n",
       "Eletrodomésticos    990137.40\n",
       "Eletrônico          765985.32\n",
       "Name: nova_receita, dtype: float64"
      ]
     },
     "execution_count": 78,
     "metadata": {},
     "output_type": "execute_result"
    }
   ],
   "source": [
    "df.groupby('categoria')['nova_receita'].sum()"
   ]
  },
  {
   "cell_type": "markdown",
   "id": "4651a563-f27c-495e-8a75-7b9c598c418a",
   "metadata": {},
   "source": [
    "### Ordenando a \"nova_receita\" de forma decrescente, desde o mais vendido ao menos"
   ]
  },
  {
   "cell_type": "code",
   "execution_count": null,
   "id": "cc32c5a5-9780-44e4-b428-d19e156d5f9f",
   "metadata": {},
   "outputs": [
    {
     "data": {
      "text/html": [
       "<div>\n",
       "<style scoped>\n",
       "    .dataframe tbody tr th:only-of-type {\n",
       "        vertical-align: middle;\n",
       "    }\n",
       "\n",
       "    .dataframe tbody tr th {\n",
       "        vertical-align: top;\n",
       "    }\n",
       "\n",
       "    .dataframe thead th {\n",
       "        text-align: right;\n",
       "    }\n",
       "</style>\n",
       "<table border=\"1\" class=\"dataframe\">\n",
       "  <thead>\n",
       "    <tr style=\"text-align: right;\">\n",
       "      <th></th>\n",
       "      <th>produto</th>\n",
       "      <th>categoria</th>\n",
       "      <th>preco</th>\n",
       "      <th>quantidade_vendida</th>\n",
       "      <th>data_venda</th>\n",
       "      <th>nova_receita</th>\n",
       "    </tr>\n",
       "  </thead>\n",
       "  <tbody>\n",
       "    <tr>\n",
       "      <th>2</th>\n",
       "      <td>Geladeira</td>\n",
       "      <td>Eletrodomésticos</td>\n",
       "      <td>3780.78</td>\n",
       "      <td>235</td>\n",
       "      <td>2024-03-15</td>\n",
       "      <td>888483.30</td>\n",
       "    </tr>\n",
       "    <tr>\n",
       "      <th>0</th>\n",
       "      <td>Notebook</td>\n",
       "      <td>Eletrônico</td>\n",
       "      <td>3500.00</td>\n",
       "      <td>120</td>\n",
       "      <td>2024-03-10</td>\n",
       "      <td>420000.00</td>\n",
       "    </tr>\n",
       "    <tr>\n",
       "      <th>4</th>\n",
       "      <td>Monitor</td>\n",
       "      <td>Eletrônico</td>\n",
       "      <td>1290.99</td>\n",
       "      <td>268</td>\n",
       "      <td>2024-03-20</td>\n",
       "      <td>345985.32</td>\n",
       "    </tr>\n",
       "    <tr>\n",
       "      <th>1</th>\n",
       "      <td>Microondas</td>\n",
       "      <td>Eletrodomésticos</td>\n",
       "      <td>567.90</td>\n",
       "      <td>179</td>\n",
       "      <td>2024-04-12</td>\n",
       "      <td>101654.10</td>\n",
       "    </tr>\n",
       "    <tr>\n",
       "      <th>3</th>\n",
       "      <td>Planta</td>\n",
       "      <td>Decoração</td>\n",
       "      <td>25.90</td>\n",
       "      <td>765</td>\n",
       "      <td>2024-03-18</td>\n",
       "      <td>19813.50</td>\n",
       "    </tr>\n",
       "  </tbody>\n",
       "</table>\n",
       "</div>"
      ],
      "text/plain": [
       "      produto         categoria    preco  quantidade_vendida data_venda  \\\n",
       "2   Geladeira  Eletrodomésticos  3780.78                 235 2024-03-15   \n",
       "0    Notebook        Eletrônico  3500.00                 120 2024-03-10   \n",
       "4     Monitor        Eletrônico  1290.99                 268 2024-03-20   \n",
       "1  Microondas  Eletrodomésticos   567.90                 179 2024-04-12   \n",
       "3      Planta         Decoração    25.90                 765 2024-03-18   \n",
       "\n",
       "   nova_receita  \n",
       "2     888483.30  \n",
       "0     420000.00  \n",
       "4     345985.32  \n",
       "1     101654.10  \n",
       "3      19813.50  "
      ]
     },
     "execution_count": 79,
     "metadata": {},
     "output_type": "execute_result"
    }
   ],
   "source": [
    "df.sort_values('nova_receita', ascending=False) "
   ]
  }
 ],
 "metadata": {
  "kernelspec": {
   "display_name": "Python 3",
   "language": "python",
   "name": "python3"
  },
  "language_info": {
   "codemirror_mode": {
    "name": "ipython",
    "version": 3
   },
   "file_extension": ".py",
   "mimetype": "text/x-python",
   "name": "python",
   "nbconvert_exporter": "python",
   "pygments_lexer": "ipython3",
   "version": "3.11.9"
  }
 },
 "nbformat": 4,
 "nbformat_minor": 5
}
